{
 "cells": [
  {
   "cell_type": "code",
   "execution_count": 24,
   "metadata": {},
   "outputs": [],
   "source": [
    "import plotly \n",
    "plotly.tools.set_credentials_file(username='rs777', api_key='pg18ihokdj')"
   ]
  },
  {
   "cell_type": "code",
   "execution_count": 37,
   "metadata": {},
   "outputs": [
    {
     "data": {
      "text/html": [
       "<div>\n",
       "<style scoped>\n",
       "    .dataframe tbody tr th:only-of-type {\n",
       "        vertical-align: middle;\n",
       "    }\n",
       "\n",
       "    .dataframe tbody tr th {\n",
       "        vertical-align: top;\n",
       "    }\n",
       "\n",
       "    .dataframe thead th {\n",
       "        text-align: right;\n",
       "    }\n",
       "</style>\n",
       "<table border=\"1\" class=\"dataframe\">\n",
       "  <thead>\n",
       "    <tr style=\"text-align: right;\">\n",
       "      <th></th>\n",
       "      <th>年 / 月</th>\n",
       "      <th>Unnamed: 1</th>\n",
       "      <th>Unnamed: 2</th>\n",
       "      <th>城巴</th>\n",
       "      <th>Unnamed: 4</th>\n",
       "      <th>Unnamed: 5</th>\n",
       "      <th>Unnamed: 6</th>\n",
       "      <th>Unnamed: 7</th>\n",
       "      <th>Unnamed: 8</th>\n",
       "      <th>Unnamed: 9</th>\n",
       "      <th>Unnamed: 10</th>\n",
       "      <th>港鐵</th>\n",
       "      <th>Unnamed: 12</th>\n",
       "      <th>Unnamed: 13</th>\n",
       "      <th>香港電車\n",
       "Hongkong\n",
       "Tramways</th>\n",
       "      <th>小計\n",
       "Sub-total</th>\n",
       "    </tr>\n",
       "  </thead>\n",
       "  <tbody>\n",
       "    <tr>\n",
       "      <th>0</th>\n",
       "      <td>Year/Month</td>\n",
       "      <td>NaN</td>\n",
       "      <td>九巴</td>\n",
       "      <td>Citybus</td>\n",
       "      <td>NaN</td>\n",
       "      <td>NaN</td>\n",
       "      <td>新巴</td>\n",
       "      <td>NaN</td>\n",
       "      <td>龍運</td>\n",
       "      <td>新大嶼山巴士</td>\n",
       "      <td>小計</td>\n",
       "      <td>MTR</td>\n",
       "      <td>NaN</td>\n",
       "      <td>NaN</td>\n",
       "      <td>NaN</td>\n",
       "      <td>NaN</td>\n",
       "    </tr>\n",
       "    <tr>\n",
       "      <th>1</th>\n",
       "      <td>NaN</td>\n",
       "      <td>NaN</td>\n",
       "      <td>KMB</td>\n",
       "      <td>專營 1\\nFranchise 1</td>\n",
       "      <td>專營 2\\nFranchise 2</td>\n",
       "      <td>小計\\nSub-total</td>\n",
       "      <td>NWFB</td>\n",
       "      <td>NaN</td>\n",
       "      <td>LWB</td>\n",
       "      <td>NLB</td>\n",
       "      <td>Sub-total</td>\n",
       "      <td>港鐵線路 (1)\\nMTR Lines (1)</td>\n",
       "      <td>機場快線\\nAEL</td>\n",
       "      <td>輕鐵\\nLight Rail</td>\n",
       "      <td>NaN</td>\n",
       "      <td>NaN</td>\n",
       "    </tr>\n",
       "    <tr>\n",
       "      <th>2</th>\n",
       "      <td>NaN</td>\n",
       "      <td>NaN</td>\n",
       "      <td>NaN</td>\n",
       "      <td>NaN</td>\n",
       "      <td>NaN</td>\n",
       "      <td>NaN</td>\n",
       "      <td>NaN</td>\n",
       "      <td>NaN</td>\n",
       "      <td>NaN</td>\n",
       "      <td>NaN</td>\n",
       "      <td>NaN</td>\n",
       "      <td>NaN</td>\n",
       "      <td>NaN</td>\n",
       "      <td>NaN</td>\n",
       "      <td>NaN</td>\n",
       "      <td>NaN</td>\n",
       "    </tr>\n",
       "    <tr>\n",
       "      <th>3</th>\n",
       "      <td>NaN</td>\n",
       "      <td>NaN</td>\n",
       "      <td></td>\n",
       "      <td>NaN</td>\n",
       "      <td>NaN</td>\n",
       "      <td>NaN</td>\n",
       "      <td>NaN</td>\n",
       "      <td>NaN</td>\n",
       "      <td>NaN</td>\n",
       "      <td>NaN</td>\n",
       "      <td>NaN</td>\n",
       "      <td>NaN</td>\n",
       "      <td>NaN</td>\n",
       "      <td>NaN</td>\n",
       "      <td>NaN</td>\n",
       "      <td>NaN</td>\n",
       "    </tr>\n",
       "    <tr>\n",
       "      <th>4</th>\n",
       "      <td>2013</td>\n",
       "      <td>NaN</td>\n",
       "      <td>952813</td>\n",
       "      <td>208841</td>\n",
       "      <td>25948.3</td>\n",
       "      <td>234789</td>\n",
       "      <td>182045</td>\n",
       "      <td>NaN</td>\n",
       "      <td>33178.2</td>\n",
       "      <td>23600.3</td>\n",
       "      <td>1.42643e+06</td>\n",
       "      <td>1.59033e+06</td>\n",
       "      <td>13664.9</td>\n",
       "      <td>171652</td>\n",
       "      <td>72281.846</td>\n",
       "      <td>1847931.090</td>\n",
       "    </tr>\n",
       "    <tr>\n",
       "      <th>5</th>\n",
       "      <td>2014</td>\n",
       "      <td>NaN</td>\n",
       "      <td>955237</td>\n",
       "      <td>209300</td>\n",
       "      <td>27049</td>\n",
       "      <td>236349</td>\n",
       "      <td>176959</td>\n",
       "      <td>NaN</td>\n",
       "      <td>34832.1</td>\n",
       "      <td>25234.5</td>\n",
       "      <td>1.42861e+06</td>\n",
       "      <td>1.66515e+06</td>\n",
       "      <td>14880.6</td>\n",
       "      <td>174199</td>\n",
       "      <td>66250.673</td>\n",
       "      <td>1920484.064</td>\n",
       "    </tr>\n",
       "    <tr>\n",
       "      <th>6</th>\n",
       "      <td>2015</td>\n",
       "      <td>NaN</td>\n",
       "      <td>969192</td>\n",
       "      <td>199959</td>\n",
       "      <td>28676.7</td>\n",
       "      <td>228636</td>\n",
       "      <td>169161</td>\n",
       "      <td>NaN</td>\n",
       "      <td>36664.4</td>\n",
       "      <td>25483.1</td>\n",
       "      <td>1.42914e+06</td>\n",
       "      <td>1.69578e+06</td>\n",
       "      <td>15725.3</td>\n",
       "      <td>176149</td>\n",
       "      <td>64853.550</td>\n",
       "      <td>1952505.322</td>\n",
       "    </tr>\n",
       "    <tr>\n",
       "      <th>7</th>\n",
       "      <td>2016</td>\n",
       "      <td>NaN</td>\n",
       "      <td>990069</td>\n",
       "      <td>197661</td>\n",
       "      <td>29239.4</td>\n",
       "      <td>226900</td>\n",
       "      <td>167817</td>\n",
       "      <td>NaN</td>\n",
       "      <td>37284.6</td>\n",
       "      <td>26329.9</td>\n",
       "      <td>1.4484e+06</td>\n",
       "      <td>1.70354e+06</td>\n",
       "      <td>16133.4</td>\n",
       "      <td>178709</td>\n",
       "      <td>64758.104</td>\n",
       "      <td>1963136.473</td>\n",
       "    </tr>\n",
       "    <tr>\n",
       "      <th>8</th>\n",
       "      <td>2017</td>\n",
       "      <td>NaN</td>\n",
       "      <td>1.00555e+06</td>\n",
       "      <td>180619</td>\n",
       "      <td>30862.9</td>\n",
       "      <td>211482</td>\n",
       "      <td>163293</td>\n",
       "      <td>NaN</td>\n",
       "      <td>39094.6</td>\n",
       "      <td>28366.6</td>\n",
       "      <td>1.44778e+06</td>\n",
       "      <td>1.75415e+06</td>\n",
       "      <td>16621.5</td>\n",
       "      <td>178502</td>\n",
       "      <td>62806.219</td>\n",
       "      <td>2012074.724</td>\n",
       "    </tr>\n",
       "    <tr>\n",
       "      <th>9</th>\n",
       "      <td>NaN</td>\n",
       "      <td>NaN</td>\n",
       "      <td>NaN</td>\n",
       "      <td>NaN</td>\n",
       "      <td>NaN</td>\n",
       "      <td>NaN</td>\n",
       "      <td>NaN</td>\n",
       "      <td>NaN</td>\n",
       "      <td>NaN</td>\n",
       "      <td>NaN</td>\n",
       "      <td>NaN</td>\n",
       "      <td>NaN</td>\n",
       "      <td>NaN</td>\n",
       "      <td>NaN</td>\n",
       "      <td>NaN</td>\n",
       "      <td>NaN</td>\n",
       "    </tr>\n",
       "  </tbody>\n",
       "</table>\n",
       "</div>"
      ],
      "text/plain": [
       "         年 / 月 Unnamed: 1   Unnamed: 2                 城巴         Unnamed: 4  \\\n",
       "0   Year/Month        NaN           九巴            Citybus                NaN   \n",
       "1          NaN        NaN          KMB  專營 1\\nFranchise 1  專營 2\\nFranchise 2   \n",
       "2          NaN        NaN          NaN                NaN                NaN   \n",
       "3          NaN        NaN                             NaN                NaN   \n",
       "4         2013        NaN       952813             208841            25948.3   \n",
       "5         2014        NaN       955237             209300              27049   \n",
       "6         2015        NaN       969192             199959            28676.7   \n",
       "7         2016        NaN       990069             197661            29239.4   \n",
       "8         2017        NaN  1.00555e+06             180619            30862.9   \n",
       "9          NaN        NaN          NaN                NaN                NaN   \n",
       "\n",
       "      Unnamed: 5 Unnamed: 6  Unnamed: 7 Unnamed: 8 Unnamed: 9  Unnamed: 10  \\\n",
       "0            NaN         新巴         NaN         龍運     新大嶼山巴士           小計   \n",
       "1  小計\\nSub-total       NWFB         NaN       LWB        NLB     Sub-total   \n",
       "2            NaN        NaN         NaN        NaN        NaN          NaN   \n",
       "3            NaN        NaN         NaN        NaN        NaN          NaN   \n",
       "4         234789     182045         NaN    33178.2    23600.3  1.42643e+06   \n",
       "5         236349     176959         NaN    34832.1    25234.5  1.42861e+06   \n",
       "6         228636     169161         NaN    36664.4    25483.1  1.42914e+06   \n",
       "7         226900     167817         NaN    37284.6    26329.9   1.4484e+06   \n",
       "8         211482     163293         NaN    39094.6    28366.6  1.44778e+06   \n",
       "9            NaN        NaN         NaN        NaN        NaN          NaN   \n",
       "\n",
       "                       港鐵  Unnamed: 12      Unnamed: 13  \\\n",
       "0                     MTR          NaN              NaN   \n",
       "1  港鐵線路 (1)\\nMTR Lines (1)   機場快線\\nAEL  輕鐵\\nLight Rail    \n",
       "2                      NaN         NaN              NaN   \n",
       "3                      NaN         NaN              NaN   \n",
       "4              1.59033e+06     13664.9           171652   \n",
       "5              1.66515e+06     14880.6           174199   \n",
       "6              1.69578e+06     15725.3           176149   \n",
       "7              1.70354e+06     16133.4           178709   \n",
       "8              1.75415e+06     16621.5           178502   \n",
       "9                      NaN         NaN              NaN   \n",
       "\n",
       "   香港電車\\nHongkong\\nTramways  小計\\nSub-total  \n",
       "0                       NaN            NaN  \n",
       "1                       NaN            NaN  \n",
       "2                       NaN            NaN  \n",
       "3                       NaN            NaN  \n",
       "4                 72281.846    1847931.090  \n",
       "5                 66250.673    1920484.064  \n",
       "6                 64853.550    1952505.322  \n",
       "7                 64758.104    1963136.473  \n",
       "8                 62806.219    2012074.724  \n",
       "9                       NaN            NaN  "
      ]
     },
     "execution_count": 37,
     "metadata": {},
     "output_type": "execute_result"
    }
   ],
   "source": [
    "import pandas as pd\n",
    "import matplotlib.pyplot as plt\n",
    "import numpy as np\n",
    "%matplotlib inline\n",
    "# %matplotlib qt5\n",
    "\n",
    "file = 'table21.xls'\n",
    "data = pd.read_excel(file, sheet_name = 0, skiprows = 5)\n",
    "data.head(10)"
   ]
  },
  {
   "cell_type": "code",
   "execution_count": 48,
   "metadata": {
    "scrolled": true
   },
   "outputs": [
    {
     "data": {
      "image/png": "[encoded data removed]",
      "text/plain": [
       "<Figure size 432x288 with 2 Axes>"
      ]
     },
     "metadata": {
      "needs_background": "light"
     },
     "output_type": "display_data"
    }
   ],
   "source": [
    "data_1= data.iloc[4:9]\n",
    "# data_1.rename(columns = {' 年 / 月':'Year'})\n",
    "fig = plt.figure()\n",
    "ax = fig.add_subplot(111)\n",
    "ax2 = ax.twinx()\n",
    "\n",
    "width = 0.3\n",
    "\n",
    "ax.set_ylim([1200000,1500000])\n",
    "ax2.set_ylim([1800000,2050000])\n",
    "\n",
    "# data_1.plot(kind='bar', x=data_1.columns[0], y=data_1.columns[10])\n",
    "# plt.show()\n",
    "\n",
    "# data_1.plot(kind='bar', x=data_1.columns[0], y=data_1.columns[15])\n",
    "# plt.show()\n",
    "\n",
    "data_1.plot(kind='bar', x=data_1.columns[0], y=data_1.columns[10], color = 'red', width = width, ax=ax, position = 1)\n",
    "data_1.plot(kind='bar', x=data_1.columns[0], y=data_1.columns[15], color = 'blue', width = width, ax=ax2, position = 0)\n",
    "\n",
    "ax.set_ylabel('Buses')\n",
    "ax2.set_ylabel('Railways')\n",
    "ax.set_xlabel('Year')\n",
    "\n",
    "ax.get_legend().remove()\n",
    "ax2.get_legend().remove()\n",
    "\n",
    "ax.grid(False)\n",
    "ax2.grid(False)\n",
    "\n",
    "plt.show()"
   ]
  },
  {
   "cell_type": "code",
   "execution_count": 51,
   "metadata": {},
   "outputs": [
    {
     "data": {
      "text/plain": [
       "Index([' 年 / 月', 'Unnamed: 1', 'Unnamed: 2', '城巴', 'Unnamed: 4', 'Unnamed: 5',\n",
       "       'Unnamed: 6', 'Unnamed: 7', 'Unnamed: 8', 'Unnamed: 9', 'Unnamed: 10',\n",
       "       '港鐵 ', 'Unnamed: 12', 'Unnamed: 13', '香港電車\\nHongkong\\nTramways',\n",
       "       '小計\\nSub-total'],\n",
       "      dtype='object')"
      ]
     },
     "execution_count": 51,
     "metadata": {},
     "output_type": "execute_result"
    }
   ],
   "source": [
    "data_1.columns[0]"
   ]
  },
  {
   "cell_type": "code",
   "execution_count": 52,
   "metadata": {
    "scrolled": false
   },
   "outputs": [
    {
     "data": {
      "text/html": [
       "        <script type=\"text/javascript\">\n",
       "        window.PlotlyConfig = {MathJaxConfig: 'local'};\n",
       "        if (window.MathJax) {MathJax.Hub.Config({SVG: {font: \"STIX-Web\"}});}\n",
       "        if (typeof require !== 'undefined') {\n",
       "        require.undef(\"plotly\");\n",
       "        requirejs.config({\n",
       "            paths: {\n",
       "                'plotly': ['https://cdn.plot.ly/plotly-latest.min']\n",
       "            }\n",
       "        });\n",
       "        require(['plotly'], function(Plotly) {\n",
       "            window._Plotly = Plotly;\n",
       "        });\n",
       "        }\n",
       "        </script>\n",
       "        "
      ]
     },
     "metadata": {},
     "output_type": "display_data"
    },
    {
     "data": {
      "application/vnd.plotly.v1+json": {
       "config": {
        "linkText": "Export to plot.ly",
        "plotlyServerURL": "https://plot.ly",
        "responsive": true,
        "showLink": false
       },
       "data": [
        {
         "type": "bar",
         "uid": "a83b1bad-b753-4d9e-96ff-19c1adabf19b",
         "x": [
          "giraffes",
          "orangutans",
          "monkeys"
         ],
         "y": [
          20,
          14,
          23
         ]
        }
       ],
       "layout": {
        "title": {
         "text": "hello world"
        }
       }
      },
      "text/html": [
       "<div>\n",
       "        \n",
       "        \n",
       "            <div id=\"86235bdf-d789-4bfc-9c09-26f8bd037505\" class=\"plotly-graph-div\" style=\"height:525px; width:100%;\"></div>\n",
       "            <script type=\"text/javascript\">\n",
       "                require([\"plotly\"], function(Plotly) {\n",
       "                    window.PLOTLYENV=window.PLOTLYENV || {};\n",
       "                    window.PLOTLYENV.BASE_URL='https://plot.ly';\n",
       "                    \n",
       "                if (document.getElementById(\"86235bdf-d789-4bfc-9c09-26f8bd037505\")) {\n",
       "                    Plotly.newPlot(\n",
       "                        '86235bdf-d789-4bfc-9c09-26f8bd037505',\n",
       "                        [{\"type\": \"bar\", \"uid\": \"cddf1f50-9166-428d-bcbb-0f98d40643ab\", \"x\": [\"giraffes\", \"orangutans\", \"monkeys\"], \"y\": [20, 14, 23]}],\n",
       "                        {\"title\": {\"text\": \"hello world\"}},\n",
       "                        {\"showLink\": false, \"linkText\": \"Export to plot.ly\", \"plotlyServerURL\": \"https://plot.ly\", \"responsive\": true}\n",
       "                    ).then(function(){\n",
       "                            \n",
       "var gd = document.getElementById('86235bdf-d789-4bfc-9c09-26f8bd037505');\n",
       "var x = new MutationObserver(function (mutations, observer) {{\n",
       "        var display = window.getComputedStyle(gd).display;\n",
       "        if (!display || display === 'none') {{\n",
       "            console.log([gd, 'removed!']);\n",
       "            Plotly.purge(gd);\n",
       "            observer.disconnect();\n",
       "        }}\n",
       "}});\n",
       "\n",
       "// Listen for the removal of the full notebook cells\n",
       "var notebookContainer = gd.closest('#notebook-container');\n",
       "if (notebookContainer) {{\n",
       "    x.observe(notebookContainer, {childList: true});\n",
       "}}\n",
       "\n",
       "// Listen for the clearing of the current output cell\n",
       "var outputEl = gd.closest('.output');\n",
       "if (outputEl) {{\n",
       "    x.observe(outputEl, {childList: true});\n",
       "}}\n",
       "\n",
       "                        })\n",
       "                };\n",
       "                });\n",
       "            </script>\n",
       "        </div>"
      ]
     },
     "metadata": {},
     "output_type": "display_data"
    }
   ],
   "source": [
    "import plotly\n",
    "import plotly.graph_objs as go\n",
    "\n",
    "plotly.offline.init_notebook_mode(connected=True)\n",
    "\n",
    "plotly.offline.iplot({\n",
    "    \"data\" : [go.Bar(x=['giraffes', 'orangutans', 'monkeys'],y=[20, 14, 23])],\n",
    "    \"layout\": go.Layout(title=\"hello world\")\n",
    "})\n",
    "\n"
   ]
  },
  {
   "cell_type": "code",
   "execution_count": 56,
   "metadata": {},
   "outputs": [
    {
     "data": {
      "text/html": [
       "        <script type=\"text/javascript\">\n",
       "        window.PlotlyConfig = {MathJaxConfig: 'local'};\n",
       "        if (window.MathJax) {MathJax.Hub.Config({SVG: {font: \"STIX-Web\"}});}\n",
       "        if (typeof require !== 'undefined') {\n",
       "        require.undef(\"plotly\");\n",
       "        requirejs.config({\n",
       "            paths: {\n",
       "                'plotly': ['https://cdn.plot.ly/plotly-latest.min']\n",
       "            }\n",
       "        });\n",
       "        require(['plotly'], function(Plotly) {\n",
       "            window._Plotly = Plotly;\n",
       "        });\n",
       "        }\n",
       "        </script>\n",
       "        "
      ]
     },
     "metadata": {},
     "output_type": "display_data"
    },
    {
     "data": {
      "application/vnd.plotly.v1+json": {
       "config": {
        "linkText": "Export to plot.ly",
        "plotlyServerURL": "https://plot.ly",
        "responsive": true,
        "showLink": false
       },
       "data": [
        {
         "name": "SF Zoo",
         "type": "bar",
         "uid": "5bc0f3d8-7367-47ec-b755-18e88ea95ec7",
         "x": [
          "giraffes",
          "orangutans",
          "monkeys"
         ],
         "y": [
          20,
          14,
          23
         ]
        },
        {
         "name": "LA Zoo",
         "type": "bar",
         "uid": "48c63692-3eb5-4a55-ab6d-c913884001b4",
         "x": [
          "giraffes",
          "orangutans",
          "monkeys"
         ],
         "y": [
          12,
          18,
          29
         ]
        }
       ],
       "layout": {
        "barmode": "group"
       }
      },
      "text/html": [
       "<div>\n",
       "        \n",
       "        \n",
       "            <div id=\"e8f1996e-0045-4cd7-83eb-202feba14fa6\" class=\"plotly-graph-div\" style=\"height:525px; width:100%;\"></div>\n",
       "            <script type=\"text/javascript\">\n",
       "                require([\"plotly\"], function(Plotly) {\n",
       "                    window.PLOTLYENV=window.PLOTLYENV || {};\n",
       "                    window.PLOTLYENV.BASE_URL='https://plot.ly';\n",
       "                    \n",
       "                if (document.getElementById(\"e8f1996e-0045-4cd7-83eb-202feba14fa6\")) {\n",
       "                    Plotly.newPlot(\n",
       "                        'e8f1996e-0045-4cd7-83eb-202feba14fa6',\n",
       "                        [{\"name\": \"SF Zoo\", \"type\": \"bar\", \"uid\": \"97c02ec1-0cf9-477f-b45d-bd62e4c017c6\", \"x\": [\"giraffes\", \"orangutans\", \"monkeys\"], \"y\": [20, 14, 23]}, {\"name\": \"LA Zoo\", \"type\": \"bar\", \"uid\": \"44e35ba6-8229-4973-90fc-cfb1ab4348f0\", \"x\": [\"giraffes\", \"orangutans\", \"monkeys\"], \"y\": [12, 18, 29]}],\n",
       "                        {\"barmode\": \"group\"},\n",
       "                        {\"showLink\": false, \"linkText\": \"Export to plot.ly\", \"plotlyServerURL\": \"https://plot.ly\", \"responsive\": true}\n",
       "                    ).then(function(){\n",
       "                            \n",
       "var gd = document.getElementById('e8f1996e-0045-4cd7-83eb-202feba14fa6');\n",
       "var x = new MutationObserver(function (mutations, observer) {{\n",
       "        var display = window.getComputedStyle(gd).display;\n",
       "        if (!display || display === 'none') {{\n",
       "            console.log([gd, 'removed!']);\n",
       "            Plotly.purge(gd);\n",
       "            observer.disconnect();\n",
       "        }}\n",
       "}});\n",
       "\n",
       "// Listen for the removal of the full notebook cells\n",
       "var notebookContainer = gd.closest('#notebook-container');\n",
       "if (notebookContainer) {{\n",
       "    x.observe(notebookContainer, {childList: true});\n",
       "}}\n",
       "\n",
       "// Listen for the clearing of the current output cell\n",
       "var outputEl = gd.closest('.output');\n",
       "if (outputEl) {{\n",
       "    x.observe(outputEl, {childList: true});\n",
       "}}\n",
       "\n",
       "                        })\n",
       "                };\n",
       "                });\n",
       "            </script>\n",
       "        </div>"
      ]
     },
     "metadata": {},
     "output_type": "display_data"
    }
   ],
   "source": [
    "import plotly\n",
    "import plotly.graph_objs as go\n",
    "\n",
    "plotly.offline.init_notebook_mode(connected=True)\n",
    "\n",
    "trace1 = go.Bar(\n",
    "    x=['giraffes', 'orangutans', 'monkeys'],\n",
    "    y=[20, 14, 23],\n",
    "    name='SF Zoo'\n",
    ")\n",
    "trace2 = go.Bar(\n",
    "    x=['giraffes', 'orangutans', 'monkeys'],\n",
    "    y=[12, 18, 29],\n",
    "    name='LA Zoo'\n",
    ")\n",
    "\n",
    "data = [trace1, trace2]\n",
    "layout = go.Layout(\n",
    "    barmode='group'\n",
    ")\n",
    "\n",
    "fig = go.Figure(data=data, layout=layout)\n",
    "plotly.offline.iplot(fig, filename='grouped-bar')"
   ]
  },
  {
   "cell_type": "code",
   "execution_count": 102,
   "metadata": {},
   "outputs": [
    {
     "data": {
      "text/html": [
       "        <script type=\"text/javascript\">\n",
       "        window.PlotlyConfig = {MathJaxConfig: 'local'};\n",
       "        if (window.MathJax) {MathJax.Hub.Config({SVG: {font: \"STIX-Web\"}});}\n",
       "        if (typeof require !== 'undefined') {\n",
       "        require.undef(\"plotly\");\n",
       "        requirejs.config({\n",
       "            paths: {\n",
       "                'plotly': ['https://cdn.plot.ly/plotly-latest.min']\n",
       "            }\n",
       "        });\n",
       "        require(['plotly'], function(Plotly) {\n",
       "            window._Plotly = Plotly;\n",
       "        });\n",
       "        }\n",
       "        </script>\n",
       "        "
      ]
     },
     "metadata": {},
     "output_type": "display_data"
    },
    {
     "data": {
      "application/vnd.plotly.v1+json": {
       "config": {
        "linkText": "Export to plot.ly",
        "plotlyServerURL": "https://plot.ly",
        "responsive": true,
        "showLink": false
       },
       "data": [
        {
         "marker": {
          "color": "rgb(175,210,205)",
          "line": {
           "color": "rgb(8,48,107)",
           "width": 1.5
          }
         },
         "name": "Buses",
         "opacity": 0.6,
         "text": [
          "1426425.979",
          "1428611.0829999999",
          "1429136.657",
          "1448400.548",
          "1447782.9600000002"
         ],
         "textposition": "auto",
         "type": "bar",
         "uid": "96d14523-318d-4e9b-a607-9718313126f3",
         "x": [
          2013,
          2014,
          2015,
          2016,
          2017
         ],
         "y": [
          1426425.979,
          1428611.0829999999,
          1429136.657,
          1448400.548,
          1447782.9600000002
         ]
        },
        {
         "marker": {
          "color": "rgb(58,200,225)",
          "line": {
           "color": "rgb(8,48,107)",
           "width": 1.5
          }
         },
         "name": "Railways",
         "opacity": 0.6,
         "text": [
          "1847931.0899999996",
          "1920484.0639999998",
          "1952505.322",
          "1963136.473",
          "2012074.7240000002"
         ],
         "textposition": "auto",
         "type": "bar",
         "uid": "e92039d9-9b66-469a-8993-0daab562a5a0",
         "x": [
          2013,
          2014,
          2015,
          2016,
          2017
         ],
         "y": [
          1847931.0899999996,
          1920484.0639999998,
          1952505.322,
          1963136.473,
          2012074.7240000002
         ]
        }
       ],
       "layout": {
        "barmode": "group",
        "title": {
         "text": "Ridership"
        },
        "xaxis": {
         "tickangle": -45
        }
       }
      },
      "text/html": [
       "<div>\n",
       "        \n",
       "        \n",
       "            <div id=\"e2439b9d-6470-4eb2-96f3-46a5eabf71ec\" class=\"plotly-graph-div\" style=\"height:525px; width:100%;\"></div>\n",
       "            <script type=\"text/javascript\">\n",
       "                require([\"plotly\"], function(Plotly) {\n",
       "                    window.PLOTLYENV=window.PLOTLYENV || {};\n",
       "                    window.PLOTLYENV.BASE_URL='https://plot.ly';\n",
       "                    \n",
       "                if (document.getElementById(\"e2439b9d-6470-4eb2-96f3-46a5eabf71ec\")) {\n",
       "                    Plotly.newPlot(\n",
       "                        'e2439b9d-6470-4eb2-96f3-46a5eabf71ec',\n",
       "                        [{\"marker\": {\"color\": \"rgb(175,210,205)\", \"line\": {\"color\": \"rgb(8,48,107)\", \"width\": 1.5}}, \"name\": \"Buses\", \"opacity\": 0.6, \"text\": [\"1426425.979\", \"1428611.0829999999\", \"1429136.657\", \"1448400.548\", \"1447782.9600000002\"], \"textposition\": \"auto\", \"type\": \"bar\", \"uid\": \"a045ed5d-a1dc-4985-a7a1-a6b1ff238695\", \"x\": [2013, 2014, 2015, 2016, 2017], \"y\": [1426425.979, 1428611.0829999999, 1429136.657, 1448400.548, 1447782.9600000002]}, {\"marker\": {\"color\": \"rgb(58,200,225)\", \"line\": {\"color\": \"rgb(8,48,107)\", \"width\": 1.5}}, \"name\": \"Railways\", \"opacity\": 0.6, \"text\": [\"1847931.0899999996\", \"1920484.0639999998\", \"1952505.322\", \"1963136.473\", \"2012074.7240000002\"], \"textposition\": \"auto\", \"type\": \"bar\", \"uid\": \"edbb6771-0e25-49ac-a92f-24cd300abe33\", \"x\": [2013, 2014, 2015, 2016, 2017], \"y\": [1847931.0899999996, 1920484.0639999998, 1952505.322, 1963136.473, 2012074.7240000002]}],\n",
       "                        {\"barmode\": \"group\", \"title\": {\"text\": \"Ridership\"}, \"xaxis\": {\"tickangle\": -45}},\n",
       "                        {\"showLink\": false, \"linkText\": \"Export to plot.ly\", \"plotlyServerURL\": \"https://plot.ly\", \"responsive\": true}\n",
       "                    ).then(function(){\n",
       "                            \n",
       "var gd = document.getElementById('e2439b9d-6470-4eb2-96f3-46a5eabf71ec');\n",
       "var x = new MutationObserver(function (mutations, observer) {{\n",
       "        var display = window.getComputedStyle(gd).display;\n",
       "        if (!display || display === 'none') {{\n",
       "            console.log([gd, 'removed!']);\n",
       "            Plotly.purge(gd);\n",
       "            observer.disconnect();\n",
       "        }}\n",
       "}});\n",
       "\n",
       "// Listen for the removal of the full notebook cells\n",
       "var notebookContainer = gd.closest('#notebook-container');\n",
       "if (notebookContainer) {{\n",
       "    x.observe(notebookContainer, {childList: true});\n",
       "}}\n",
       "\n",
       "// Listen for the clearing of the current output cell\n",
       "var outputEl = gd.closest('.output');\n",
       "if (outputEl) {{\n",
       "    x.observe(outputEl, {childList: true});\n",
       "}}\n",
       "\n",
       "                        })\n",
       "                };\n",
       "                });\n",
       "            </script>\n",
       "        </div>"
      ]
     },
     "metadata": {},
     "output_type": "display_data"
    }
   ],
   "source": [
    "x = data_1[data_1.columns[0]]\n",
    "x_1 = np.array(x)\n",
    "x_1 = list(x_1)\n",
    "\n",
    "y = data_1[data_1.columns[10]]\n",
    "y_1 = np.array(y)\n",
    "y_1 = list(y_1)\n",
    "\n",
    "c = data_1[data_1.columns[15]]\n",
    "y_2 = np.array(c)\n",
    "y_2 = list(y_2)\n",
    "\n",
    "import plotly\n",
    "import plotly.graph_objs as go\n",
    "\n",
    "plotly.offline.init_notebook_mode(connected=True)\n",
    "\n",
    "trace1 = go.Bar(\n",
    "    x=x_1,\n",
    "    y=y_1,\n",
    "    text=y_1,\n",
    "    textposition = 'auto',\n",
    "    name='Buses',\n",
    "    marker=dict(\n",
    "        color='rgb(175,210,205)',\n",
    "        line=dict(\n",
    "            color='rgb(8,48,107)',\n",
    "            width=1.5),\n",
    "        ),\n",
    "    opacity=0.6\n",
    ")\n",
    "\n",
    "trace2 = go.Bar(\n",
    "    x=x,\n",
    "    y=y_2,\n",
    "    text=y_2,\n",
    "    textposition = 'auto',\n",
    "    name='Railways',\n",
    "    marker=dict(\n",
    "        color='rgb(58,200,225)',\n",
    "        line=dict(\n",
    "            color='rgb(8,48,107)',\n",
    "            width=1.5),\n",
    "        ),\n",
    "    opacity=0.6\n",
    ")\n",
    "\n",
    "data = [trace1,trace2]\n",
    "\n",
    "layout = go.Layout(\n",
    "    xaxis=dict(tickangle=-45),\n",
    "    barmode='group',\n",
    "    title = 'Ridership'\n",
    ")\n",
    "\n",
    "fig = go.Figure(data=data, layout=layout)\n",
    "plotly.offline.iplot(fig, filename='angled-text-bar')"
   ]
  },
  {
   "cell_type": "code",
   "execution_count": 94,
   "metadata": {},
   "outputs": [
    {
     "data": {
      "text/html": [
       "\n",
       "        <iframe\n",
       "            width=\"100%\"\n",
       "            height=\"650px\"\n",
       "            src=\"https://dash-simple-apps.plotly.host/dash-barplot/?frameBorder=0\"\n",
       "            frameborder=\"0\"\n",
       "            allowfullscreen\n",
       "        ></iframe>\n",
       "        "
      ],
      "text/plain": [
       "<IPython.lib.display.IFrame at 0x1250536d8>"
      ]
     },
     "execution_count": 94,
     "metadata": {},
     "output_type": "execute_result"
    }
   ],
   "source": [
    "from IPython.display import IFrame\n",
    "IFrame(src= \"https://dash-simple-apps.plotly.host/dash-barplot/\", width=\"100%\", height=\"650px\", frameBorder=\"0\")"
   ]
  },
  {
   "cell_type": "code",
   "execution_count": 108,
   "metadata": {},
   "outputs": [
    {
     "ename": "ModuleNotFoundError",
     "evalue": "No module named 'mpl_toolkits.basemap'",
     "output_type": "error",
     "traceback": [
      "\u001b[0;31m---------------------------------------------------------------------------\u001b[0m",
      "\u001b[0;31mModuleNotFoundError\u001b[0m                       Traceback (most recent call last)",
      "\u001b[0;32m<ipython-input-108-fa78af21ccd7>\u001b[0m in \u001b[0;36m<module>\u001b[0;34m\u001b[0m\n\u001b[1;32m      1\u001b[0m \u001b[0;32mimport\u001b[0m \u001b[0mnumpy\u001b[0m \u001b[0;32mas\u001b[0m \u001b[0mnp\u001b[0m\u001b[0;34m\u001b[0m\u001b[0;34m\u001b[0m\u001b[0m\n\u001b[0;32m----> 2\u001b[0;31m \u001b[0;32mfrom\u001b[0m \u001b[0mmpl_toolkits\u001b[0m\u001b[0;34m.\u001b[0m\u001b[0mbasemap\u001b[0m \u001b[0;32mimport\u001b[0m \u001b[0mBasemap\u001b[0m\u001b[0;34m\u001b[0m\u001b[0;34m\u001b[0m\u001b[0m\n\u001b[0m\u001b[1;32m      3\u001b[0m \u001b[0;32mimport\u001b[0m \u001b[0mmatplotlib\u001b[0m\u001b[0;34m.\u001b[0m\u001b[0mpyplot\u001b[0m \u001b[0;32mas\u001b[0m \u001b[0mplt\u001b[0m\u001b[0;34m\u001b[0m\u001b[0;34m\u001b[0m\u001b[0m\n\u001b[1;32m      4\u001b[0m \u001b[0;32mfrom\u001b[0m \u001b[0mdatetime\u001b[0m \u001b[0;32mimport\u001b[0m \u001b[0mdatetime\u001b[0m\u001b[0;34m\u001b[0m\u001b[0;34m\u001b[0m\u001b[0m\n\u001b[1;32m      5\u001b[0m \u001b[0;31m# # miller projection\u001b[0m\u001b[0;34m\u001b[0m\u001b[0;34m\u001b[0m\u001b[0;34m\u001b[0m\u001b[0m\n",
      "\u001b[0;31mModuleNotFoundError\u001b[0m: No module named 'mpl_toolkits.basemap'"
     ]
    }
   ],
   "source": [
    "import numpy as np\n",
    "from mpl_toolkits.basemap import Basemap\n",
    "import matplotlib.pyplot as plt\n",
    "from datetime import datetime\n",
    "\n",
    "\n",
    "# # miller projection\n",
    "# map = Basemap(projection='mill',lon_0=180)\n",
    "# # plot coastlines, draw label meridians and parallels.\n",
    "# map.drawcoastlines()\n",
    "# map.drawparallels(np.arange(-90,90,30),labels=[1,0,0,0])\n",
    "# map.drawmeridians(np.arange(map.lonmin,map.lonmax+30,60),labels=[0,0,0,1])\n",
    "# # fill continents 'coral' (with zorder=0), color wet areas 'aqua'\n",
    "# map.drawmapboundary(fill_color='aqua')\n",
    "# map.fillcontinents(color='coral',lake_color='aqua')\n",
    "# # shade the night areas, with alpha transparency so the\n",
    "# # map shows through. Use current time in UTC.\n",
    "# date = datetime.utcnow()\n",
    "# CS=map.nightshade(date)\n",
    "# plt.title('Day/Night Map for %s (UTC)' % date.strftime(\"%d %b %Y %H:%M:%S\"))\n",
    "# plt.show()"
   ]
  },
  {
   "cell_type": "code",
   "execution_count": 107,
   "metadata": {},
   "outputs": [
    {
     "ename": "ModuleNotFoundError",
     "evalue": "No module named 'basemap'",
     "output_type": "error",
     "traceback": [
      "\u001b[0;31m---------------------------------------------------------------------------\u001b[0m",
      "\u001b[0;31mModuleNotFoundError\u001b[0m                       Traceback (most recent call last)",
      "\u001b[0;32m<ipython-input-107-8b83ecbd13c9>\u001b[0m in \u001b[0;36m<module>\u001b[0;34m\u001b[0m\n\u001b[0;32m----> 1\u001b[0;31m \u001b[0;32mimport\u001b[0m \u001b[0mbasemap\u001b[0m\u001b[0;34m\u001b[0m\u001b[0;34m\u001b[0m\u001b[0m\n\u001b[0m",
      "\u001b[0;31mModuleNotFoundError\u001b[0m: No module named 'basemap'"
     ]
    }
   ],
   "source": [
    "import basemap"
   ]
  },
  {
   "cell_type": "code",
   "execution_count": null,
   "metadata": {},
   "outputs": [],
   "source": []
  }
 ],
 "metadata": {
  "kernelspec": {
   "display_name": "Python 3",
   "language": "python",
   "name": "python3"
  },
  "language_info": {
   "codemirror_mode": {
    "name": "ipython",
    "version": 3
   },
   "file_extension": ".py",
   "mimetype": "text/x-python",
   "name": "python",
   "nbconvert_exporter": "python",
   "pygments_lexer": "ipython3",
   "version": "3.7.1"
  }
 },
 "nbformat": 4,
 "nbformat_minor": 2
}
